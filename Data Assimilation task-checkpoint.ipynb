{
 "cells": [
  {
   "cell_type": "markdown",
   "id": "6932e55f",
   "metadata": {},
   "source": [
    "Develop a Python code for 3D-Var to estimate temperatures at 5 locations. Assume a background from climatological data  𝑥𝑏=(13,12,15,19,17)𝑇\n",
    "  with error covariance\n",
    "\n",
    "Also assume we observe the temperature at all 5 locations with  𝑦=(13.2,14.9,16.9,18.0,19.8)𝑇\n",
    "  and corresponding error variance 0.2 for all locations.\n",
    "    \n",
    "i. Assume $σ^b 2 i = 0.5$ for all i and $cv_b = 0.125$. Plot 3D-Var optimal estimates, together\n",
    "with the data and background as points. Use a legend for your plot and describe\n",
    "how the estimates compare with the background and data.\n",
    "\n",
    "ii. Vary values for σ b i and cv b and describe how this eﬀects your optimal estimates."
   ]
  },
  {
   "cell_type": "code",
   "execution_count": 2,
   "id": "12c0cdb8",
   "metadata": {},
   "outputs": [],
   "source": [
    "import numpy as np\n",
    "from scipy.linalg import solve\n",
    "import matplotlib.pyplot as plt"
   ]
  },
  {
   "cell_type": "code",
   "execution_count": null,
   "id": "9f920255",
   "metadata": {},
   "outputs": [],
   "source": [
    "def D3(cvb,B):\n",
    "    xb=[13,12,15,19,17]      \n",
    "    H=np.eye(5)\n",
    "    Ht=H.T\n",
    "    R=0.2* np.eye(5)\n",
    "    y=[13.2,14.9,16.9,18.0,19.8]\n",
    "    Ht=H.T\n",
    "    k=B@Ht@np.linalg.inv(R+H@B@Ht)\n",
    "    return xb+k@(y-H@xb)"
   ]
  },
  {
   "cell_type": "code",
   "execution_count": null,
   "id": "d6893094",
   "metadata": {},
   "outputs": [],
   "source": [
    "cvb=.125    \n",
    "B=np.zeros((5,5))+np.eye(5)+cvb*np.eye(5, k=-1)+cvb*np.eye(5, k=1)\n",
    "D3(cvb,B)"
   ]
  },
  {
   "cell_type": "code",
   "execution_count": null,
   "id": "72ca9b86",
   "metadata": {},
   "outputs": [],
   "source": [
    "# different initial values.\n",
    "i = np.array(range(1,6))\n",
    "xb=[13,12,15,19,17]\n",
    "y=[13.2,14.9,16.9,18.0,19.8]\n",
    "\n",
    "xhat=D3(cvb,B)\n",
    "plt.scatter(i, xhat,label=\"x_hat\")\n",
    "plt.scatter(i, xb,label=\"xb\")\n",
    "plt.scatter(i, y,label=\"obsevations\")\n",
    "plt.legend()\n",
    "plt.show()"
   ]
  },
  {
   "cell_type": "code",
   "execution_count": null,
   "id": "d2ad73f2",
   "metadata": {},
   "outputs": [],
   "source": [
    "def plots():\n",
    "    xb=[13,12,15,19,17]\n",
    "    y=[13.2,14.9,16.9,18.0,19.8]\n",
    "    for cvb in [1,0.1,0.5 ,-1]:\n",
    "        B=np.zeros((5,5))+np.eye(5)+cvb*np.eye(5, k=-1)+cvb*np.eye(5, k=1)\n",
    "        xhat=D3(cvb,B)\n",
    "        plt.scatter(i, xb,label=\"xb\")\n",
    "        plt.scatter(i, y,label=\"obsevations\")\n",
    "        plt.scatter(range(1,6), xhat,label=f\"xhat for cvb={cvb}\")\n",
    "        plt.legend()\n",
    "        plt.show()\n",
    "    return\n",
    "plots()"
   ]
  }
 ],
 "metadata": {
  "kernelspec": {
   "display_name": "Python 3 (ipykernel)",
   "language": "python",
   "name": "python3"
  },
  "language_info": {
   "codemirror_mode": {
    "name": "ipython",
    "version": 3
   },
   "file_extension": ".py",
   "mimetype": "text/x-python",
   "name": "python",
   "nbconvert_exporter": "python",
   "pygments_lexer": "ipython3",
   "version": "3.11.3"
  }
 },
 "nbformat": 4,
 "nbformat_minor": 5
}
